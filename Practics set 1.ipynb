{
 "cells": [
  {
   "cell_type": "markdown",
   "id": "f069fdf8",
   "metadata": {},
   "source": [
    "# 🐍 Python Practice Set - 01 (25 Questions With Code)"
   ]
  },
  {
   "cell_type": "markdown",
   "id": "713b4931",
   "metadata": {},
   "source": [
    "Q1: Print \"Hello World!\" using Python."
   ]
  },
  {
   "cell_type": "code",
   "execution_count": 2,
   "id": "13bafed2",
   "metadata": {},
   "outputs": [
    {
     "name": "stdout",
     "output_type": "stream",
     "text": [
      "Hello World!\n"
     ]
    }
   ],
   "source": [
    "print(\"Hello World!\")"
   ]
  },
  {
   "cell_type": "markdown",
   "id": "54af48c7",
   "metadata": {},
   "source": [
    " Q2 : Add two numbers entered by user.\n",
    " "
   ]
  },
  {
   "cell_type": "code",
   "execution_count": 3,
   "id": "856a1014",
   "metadata": {},
   "outputs": [
    {
     "name": "stdout",
     "output_type": "stream",
     "text": [
      "sum of two number : 8\n"
     ]
    }
   ],
   "source": [
    "num1 = int(input('enter the first number'))\n",
    "num2 = int(input('enter the second number'))\n",
    "sum = num1+num2\n",
    "print('sum of two number :',sum)"
   ]
  },
  {
   "cell_type": "markdown",
   "id": "d0766999",
   "metadata": {},
   "source": [
    "Q3 : Find maximum between two numbers."
   ]
  },
  {
   "cell_type": "code",
   "execution_count": null,
   "id": "2d5c824e",
   "metadata": {},
   "outputs": [
    {
     "name": "stdout",
     "output_type": "stream",
     "text": [
      "8 is greater than 2\n"
     ]
    }
   ],
   "source": [
    "num1 = int(input('enter the first number:'))\n",
    "num2 = int(input('enter the second number:'))\n",
    "if num1>num2:\n",
    "    print('{} is greater than {}'.format(num1,num2))\n",
    "else:\n",
    "    print('{} is greater than {}'.format(num2,num1))"
   ]
  },
  {
   "cell_type": "markdown",
   "id": "d993ebca",
   "metadata": {},
   "source": [
    "Q4 : Check if a number is odd or even."
   ]
  },
  {
   "cell_type": "code",
   "execution_count": null,
   "id": "43c820f2",
   "metadata": {},
   "outputs": [
    {
     "name": "stdout",
     "output_type": "stream",
     "text": [
      "5 is a odd number\n"
     ]
    }
   ],
   "source": [
    "num = int(input('enter the number'))\n",
    "if num%2==0:\n",
    "    print('{} is a even number'.format(num))\n",
    "else:\n",
    "    print('{} is a odd number'.format(num))"
   ]
  },
  {
   "cell_type": "markdown",
   "id": "468a407a",
   "metadata": {},
   "source": [
    "Q5 : Check whether a number is positive, negative, or zero."
   ]
  },
  {
   "cell_type": "code",
   "execution_count": null,
   "id": "d8230ac3",
   "metadata": {},
   "outputs": [
    {
     "name": "stdout",
     "output_type": "stream",
     "text": [
      "-2 is a negative number\n"
     ]
    }
   ],
   "source": [
    "num = int(input('enter the number'))\n",
    "if num>0:\n",
    "    print('{} is a positive number'.format(num))\n",
    "elif num==0:\n",
    "    print('It is a zero')\n",
    "else:\n",
    "    print('{} is a negative number'.format(num))"
   ]
  },
  {
   "cell_type": "markdown",
   "id": "948b0075",
   "metadata": {},
   "source": [
    "Q6 : Find factorial of a number using loop."
   ]
  },
  {
   "cell_type": "code",
   "execution_count": null,
   "id": "5deef425",
   "metadata": {},
   "outputs": [
    {
     "name": "stdout",
     "output_type": "stream",
     "text": [
      "Factorial of 6 is 720\n"
     ]
    }
   ],
   "source": [
    "num = int(input('enter the number'))\n",
    "factorial = 1\n",
    "if num<0:\n",
    "    print('Factorial is not valid in negative number')\n",
    "elif num==0 or num==1:\n",
    "    print('Factorial of 1 or 0 is 1')\n",
    "for i in range(1,num+1):\n",
    "    factorial *= i\n",
    "print('Factorial of {} is {}'.format(num,factorial))"
   ]
  },
  {
   "cell_type": "markdown",
   "id": "efa3a4d4",
   "metadata": {},
   "source": [
    "Q7 : Find factorial using recursion."
   ]
  },
  {
   "cell_type": "code",
   "execution_count": null,
   "id": "85e8a643",
   "metadata": {},
   "outputs": [
    {
     "name": "stdout",
     "output_type": "stream",
     "text": [
      "Factorial of -5 is not valid in negative number\n"
     ]
    }
   ],
   "source": [
    "def fact_recur(n):\n",
    "    if n==1 or n==0:\n",
    "        return 1\n",
    "    elif n<0:\n",
    "        return 'not valid in negative number'\n",
    "    else:\n",
    "        return n*fact_recur(n-1)\n",
    "num = int(input('enter the number'))\n",
    "factorial = fact_recur(num)\n",
    "print('Factorial of {} is {}'.format(num,factorial))"
   ]
  },
  {
   "cell_type": "markdown",
   "id": "e35a56bf",
   "metadata": {},
   "source": [
    "Q8 : Print multiplication table of any number."
   ]
  },
  {
   "cell_type": "code",
   "execution_count": null,
   "id": "f6abed84",
   "metadata": {},
   "outputs": [
    {
     "name": "stdout",
     "output_type": "stream",
     "text": [
      "4 * 1 = 4\n",
      "4 * 2 = 8\n",
      "4 * 3 = 12\n",
      "4 * 4 = 16\n",
      "4 * 5 = 20\n",
      "4 * 6 = 24\n",
      "4 * 7 = 28\n",
      "4 * 8 = 32\n",
      "4 * 9 = 36\n",
      "4 * 10 = 40\n"
     ]
    }
   ],
   "source": [
    "num = int(input('enter the number'))\n",
    "for i in range(1,11):\n",
    "    print('{} * {} = {}'.format(num,i,num*i))"
   ]
  },
  {
   "cell_type": "markdown",
   "id": "edc088d8",
   "metadata": {},
   "source": [
    "Q9 : Find sum of first N natural numbers."
   ]
  },
  {
   "cell_type": "code",
   "execution_count": null,
   "id": "f48b5fe1",
   "metadata": {},
   "outputs": [
    {
     "name": "stdout",
     "output_type": "stream",
     "text": [
      "Sum of 10 natural number = 55\n"
     ]
    }
   ],
   "source": [
    "num = int(input('enter the number'))\n",
    "sum = 0\n",
    "for i in range(num+1):\n",
    "    sum+=i\n",
    "print('Sum of {} natural number = {}'.format(num,sum))"
   ]
  },
  {
   "cell_type": "markdown",
   "id": "56425696",
   "metadata": {},
   "source": [
    "Q10 : Find GCD of two numbers."
   ]
  },
  {
   "cell_type": "code",
   "execution_count": null,
   "id": "dd37a284",
   "metadata": {},
   "outputs": [
    {
     "name": "stdout",
     "output_type": "stream",
     "text": [
      "GCD of 20 and 15 is 5\n"
     ]
    }
   ],
   "source": [
    "num1 = int(input('enter the first number'))\n",
    "num2 = int(input('enter the second number'))\n",
    "min_num = min(num1,num2)\n",
    "for i in range(min_num,0,-1):\n",
    "    if num1%i==0 and num2%i==0:\n",
    "        print('GCD of {} and {} is {}'.format(num1,num2,i))\n",
    "        break"
   ]
  },
  {
   "cell_type": "markdown",
   "id": "ecc2b5fe",
   "metadata": {},
   "source": [
    "Q11 : Find LCM of two numbers."
   ]
  },
  {
   "cell_type": "code",
   "execution_count": null,
   "id": "b447d9a9",
   "metadata": {},
   "outputs": [],
   "source": [
    "num1 = int(input('enter the first number'))\n",
    "num2 = int(input('enter the second number'))\n",
    "\n",
    "\n"
   ]
  },
  {
   "cell_type": "markdown",
   "id": "a5c1e3e1",
   "metadata": {},
   "source": [
    "Q12 : Check whether a year is leap year."
   ]
  },
  {
   "cell_type": "code",
   "execution_count": null,
   "id": "a16de0d7",
   "metadata": {},
   "outputs": [
    {
     "name": "stdout",
     "output_type": "stream",
     "text": [
      "2023 is not a leap year\n"
     ]
    }
   ],
   "source": [
    "year = int(input('enter the year'))\n",
    "if (year%4==0 and year%100 != 0) or year%400==0:\n",
    "    print('{} is a leap year'.format(year))\n",
    "else:\n",
    "    print('{} is not a leap year'.format(year))"
   ]
  },
  {
   "cell_type": "markdown",
   "id": "a866c3a5",
   "metadata": {},
   "source": [
    "Q13 : Print Fibonacci sequence up to N terms."
   ]
  },
  {
   "cell_type": "code",
   "execution_count": 38,
   "id": "02748588",
   "metadata": {},
   "outputs": [
    {
     "name": "stdout",
     "output_type": "stream",
     "text": [
      "0,1,1,2,3,5,8,13,"
     ]
    }
   ],
   "source": [
    "num = int(input('enter the number'))\n",
    "a=0\n",
    "b=1\n",
    "for i in range(num):\n",
    "    print(a,end=',')\n",
    "    temp = a\n",
    "    a = b\n",
    "    b = temp+a"
   ]
  },
  {
   "cell_type": "markdown",
   "id": "43078c74",
   "metadata": {},
   "source": [
    "Q14 : Reverse a string using slicing."
   ]
  },
  {
   "cell_type": "code",
   "execution_count": null,
   "id": "118204db",
   "metadata": {},
   "outputs": [
    {
     "name": "stdout",
     "output_type": "stream",
     "text": [
      "!dlroW olleH\n"
     ]
    }
   ],
   "source": [
    "string = input('enter the any string value')\n",
    "print(string[::-1])"
   ]
  },
  {
   "cell_type": "markdown",
   "id": "d6f7e9e2",
   "metadata": {},
   "source": [
    "Q15 : Check if a string is palindrome."
   ]
  },
  {
   "cell_type": "code",
   "execution_count": null,
   "id": "47302baa",
   "metadata": {},
   "outputs": [
    {
     "name": "stdout",
     "output_type": "stream",
     "text": [
      "This is palindrome\n"
     ]
    }
   ],
   "source": [
    "string = input('enter the any string')\n",
    "if string == string[::-1]:\n",
    "    print('This is palindrome')\n",
    "else:\n",
    "    print('This is not Palindrome')"
   ]
  },
  {
   "cell_type": "markdown",
   "id": "7571ac70",
   "metadata": {},
   "source": [
    "Q16 : Count vowels in a string."
   ]
  },
  {
   "cell_type": "code",
   "execution_count": 1,
   "id": "1d654fa1",
   "metadata": {},
   "outputs": [
    {
     "name": "stdout",
     "output_type": "stream",
     "text": [
      "No. of vowels in given string 7\n"
     ]
    }
   ],
   "source": [
    "string = input('enter the string value')\n",
    "count = 0\n",
    "for i in string:\n",
    "    if i in ['a','e','i','o','u']:\n",
    "        count+=1\n",
    "print('No. of vowels in given string',count)"
   ]
  },
  {
   "cell_type": "markdown",
   "id": "fc8a0c07",
   "metadata": {},
   "source": [
    "Q17 : Count consonants in a string."
   ]
  },
  {
   "cell_type": "code",
   "execution_count": null,
   "id": "728dbde1",
   "metadata": {},
   "outputs": [
    {
     "name": "stdout",
     "output_type": "stream",
     "text": [
      "No. of consonants in a string =  5\n"
     ]
    }
   ],
   "source": [
    "string = input('enter the any string value')\n",
    "count = 0\n",
    "for i in string:\n",
    "    if i not in ['a','e','i','o','u','A','E','I','O','U']:\n",
    "        count +=1\n",
    "print('No. of consonants in a string =',count)"
   ]
  },
  {
   "cell_type": "markdown",
   "id": "3aca07b2",
   "metadata": {},
   "source": [
    "Q18 : Find length of a string without using len()."
   ]
  },
  {
   "cell_type": "code",
   "execution_count": 13,
   "id": "3d7f77bd",
   "metadata": {},
   "outputs": [
    {
     "name": "stdout",
     "output_type": "stream",
     "text": [
      "Length of 'hello' = 5\n"
     ]
    }
   ],
   "source": [
    "string = input('enter the string value')\n",
    "print('Length of \\'{}\\' = {}'.format(string,len(string)))"
   ]
  },
  {
   "cell_type": "markdown",
   "id": "4b8b5734",
   "metadata": {},
   "source": [
    "Q19 : Find ASCII value of a character"
   ]
  },
  {
   "cell_type": "code",
   "execution_count": 20,
   "id": "2bec4a3c",
   "metadata": {},
   "outputs": [
    {
     "name": "stdout",
     "output_type": "stream",
     "text": [
      "ASCII value of 'A' = 65\n"
     ]
    }
   ],
   "source": [
    "character = input('enter the any character')\n",
    "print('ASCII value of \\'{}\\' = {}'.format(character,ord(character)))"
   ]
  },
  {
   "cell_type": "markdown",
   "id": "71c421b3",
   "metadata": {},
   "source": [
    "Q20 : Convert string to uppercase and lowercase."
   ]
  },
  {
   "cell_type": "code",
   "execution_count": 23,
   "id": "3ce6a31d",
   "metadata": {},
   "outputs": [
    {
     "name": "stdout",
     "output_type": "stream",
     "text": [
      "Upper case of 'HeLlo WorLd' = HELLO WORLD\n",
      "Lower case of 'HeLlo WorLd' = hello world\n"
     ]
    }
   ],
   "source": [
    "string = input('enter the string value')\n",
    "print('Upper case of \\'{}\\' = {}'.format(string,string.upper()))\n",
    "print('Lower case of \\'{}\\' = {}'.format(string,string.lower()))"
   ]
  },
  {
   "cell_type": "markdown",
   "id": "d1633b7e",
   "metadata": {},
   "source": [
    "Q21 : Count frequency of characters in string."
   ]
  },
  {
   "cell_type": "code",
   "execution_count": 25,
   "id": "2b2ba876",
   "metadata": {},
   "outputs": [
    {
     "name": "stdout",
     "output_type": "stream",
     "text": [
      "Count of 'l' in 'Hello world' = 3\n"
     ]
    }
   ],
   "source": [
    "string = input('enter the string value')\n",
    "c_character = input('enter the character value for count')\n",
    "print('Count of \\'{}\\' in \\'{}\\' = {}'.format(c_character,string,string.count(c_character)))"
   ]
  },
  {
   "cell_type": "markdown",
   "id": "dce51053",
   "metadata": {},
   "source": [
    "Q22 : Print all elements of a list"
   ]
  },
  {
   "cell_type": "code",
   "execution_count": null,
   "id": "f8b11d3c",
   "metadata": {},
   "outputs": [
    {
     "name": "stdout",
     "output_type": "stream",
     "text": [
      "List Element = [1, 2, 3, 4, 5]\n",
      "1\n",
      "2\n",
      "3\n",
      "4\n",
      "5\n"
     ]
    }
   ],
   "source": [
    "lst = list(map(int,input().split()))\n",
    "print('List Element =',lst)\n",
    "for i in lst:\n",
    "    print(i)"
   ]
  },
  {
   "cell_type": "markdown",
   "id": "1b4b16e1",
   "metadata": {},
   "source": [
    "Q23 : Find maximum number in a list."
   ]
  },
  {
   "cell_type": "code",
   "execution_count": null,
   "id": "2d900575",
   "metadata": {},
   "outputs": [
    {
     "name": "stdout",
     "output_type": "stream",
     "text": [
      "List Element = [3, 8, 2, 4, 0, 9]\n",
      "Max number in list = 9\n"
     ]
    }
   ],
   "source": [
    "lst = list(map(int,input().split()))\n",
    "print('List Element =',lst)\n",
    "print('Max number in list =',max(lst))"
   ]
  },
  {
   "cell_type": "markdown",
   "id": "448eb105",
   "metadata": {},
   "source": [
    "Q24 : Find minimum number in a list."
   ]
  },
  {
   "cell_type": "code",
   "execution_count": 34,
   "id": "ca11e183",
   "metadata": {},
   "outputs": [
    {
     "name": "stdout",
     "output_type": "stream",
     "text": [
      "List Element = [3, 5, 7, 1, 0]\n",
      "Min number in list = 0\n"
     ]
    }
   ],
   "source": [
    "lst = list(map(int,input().split()))\n",
    "print('List Element =',lst)\n",
    "print('Min number in list =',min(lst))"
   ]
  },
  {
   "cell_type": "markdown",
   "id": "f7ed3151",
   "metadata": {},
   "source": [
    "Q25 : Find sum of all numbers in a list."
   ]
  },
  {
   "cell_type": "code",
   "execution_count": 36,
   "id": "f6392510",
   "metadata": {},
   "outputs": [
    {
     "name": "stdout",
     "output_type": "stream",
     "text": [
      "List Element = [3, 6, 9, 2, 6]\n",
      "Sum number in list = 26\n"
     ]
    }
   ],
   "source": [
    "lst = list(map(int,input().split()))\n",
    "print('List Element =',lst)\n",
    "print('Sum number in list =',sum(lst))"
   ]
  }
 ],
 "metadata": {
  "kernelspec": {
   "display_name": "Python 3",
   "language": "python",
   "name": "python3"
  },
  "language_info": {
   "codemirror_mode": {
    "name": "ipython",
    "version": 3
   },
   "file_extension": ".py",
   "mimetype": "text/x-python",
   "name": "python",
   "nbconvert_exporter": "python",
   "pygments_lexer": "ipython3",
   "version": "3.13.3"
  }
 },
 "nbformat": 4,
 "nbformat_minor": 5
}
